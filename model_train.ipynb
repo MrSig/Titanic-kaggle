{
 "cells": [
  {
   "cell_type": "code",
   "execution_count": 17,
   "metadata": {},
   "outputs": [],
   "source": [
    "import pandas as pd\n",
    "import numpy as np\n",
    "from src import visualization, utils, impute, models\n",
    "\n",
    "train_df = pd.read_pickle(\"./pp_train.pkl\")\n",
    "x_dat = train_df.drop(columns = 'Survived')\n",
    "y_dat = train_df.Survived\n"
   ]
  },
  {
   "cell_type": "markdown",
   "metadata": {},
   "source": [
    "Loading the data to be fed to the models."
   ]
  },
  {
   "cell_type": "code",
   "execution_count": 10,
   "metadata": {},
   "outputs": [
    {
     "name": "stdout",
     "output_type": "stream",
     "text": [
      "0.8282828282828283\n"
     ]
    }
   ],
   "source": [
    "log_reg = models.models[0]\n",
    "params = models.param_grids[0]\n",
    "\n",
    "model = models.Model()\n",
    "model = model.train_best(model=log_reg, x_dat=x_dat, y_dat=y_dat, params=params, cv=5)\n",
    "print(model.score(x_dat,y_dat))"
   ]
  },
  {
   "cell_type": "markdown",
   "metadata": {},
   "source": [
    "The logistic regression doesn't perform that well."
   ]
  },
  {
   "cell_type": "code",
   "execution_count": 11,
   "metadata": {},
   "outputs": [
    {
     "name": "stdout",
     "output_type": "stream",
     "text": [
      "0.8451178451178452\n"
     ]
    }
   ],
   "source": [
    "svc = models.models[1]\n",
    "params = models.param_grids[1]\n",
    "\n",
    "model = models.Model()\n",
    "model = model.train_best(model=svc, x_dat=x_dat, y_dat=y_dat, params=params, cv=5)\n",
    "print(model.score(x_dat,y_dat))"
   ]
  },
  {
   "cell_type": "markdown",
   "metadata": {},
   "source": [
    "The support machine vector classifier is slightly better."
   ]
  },
  {
   "cell_type": "code",
   "execution_count": 12,
   "metadata": {},
   "outputs": [
    {
     "name": "stdout",
     "output_type": "stream",
     "text": [
      "0.792368125701459\n"
     ]
    }
   ],
   "source": [
    "dec_tree = models.models[2]\n",
    "params = models.param_grids[2]\n",
    "\n",
    "model = models.Model()\n",
    "model = model.train_best(model=dec_tree, x_dat=x_dat, y_dat=y_dat, params=params, cv=5)\n",
    "print(model.score(x_dat,y_dat))"
   ]
  },
  {
   "cell_type": "markdown",
   "metadata": {},
   "source": [
    "Decision tree model isn't very good either."
   ]
  },
  {
   "cell_type": "code",
   "execution_count": 13,
   "metadata": {},
   "outputs": [
    {
     "name": "stdout",
     "output_type": "stream",
     "text": [
      "0.9012345679012346\n"
     ]
    }
   ],
   "source": [
    "ran_for = models.models[3]\n",
    "params = models.param_grids[3]\n",
    "\n",
    "model = models.Model()\n",
    "model = model.train_best(model=ran_for, x_dat=x_dat, y_dat=y_dat, params=params, cv=5)\n",
    "print(model.score(x_dat,y_dat))"
   ]
  },
  {
   "cell_type": "code",
   "execution_count": null,
   "metadata": {},
   "outputs": [],
   "source": [
    "Random forest performs well."
   ]
  },
  {
   "cell_type": "code",
   "execution_count": 14,
   "metadata": {},
   "outputs": [
    {
     "name": "stdout",
     "output_type": "stream",
     "text": [
      "0.936026936026936\n"
     ]
    }
   ],
   "source": [
    "xg = models.models[4]\n",
    "params = models.param_grids[4]\n",
    "\n",
    "model = models.Model()\n",
    "model = model.train_best(model=xg, x_dat=x_dat, y_dat=y_dat, params=params, cv=5)\n",
    "print(model.score(x_dat,y_dat))"
   ]
  },
  {
   "cell_type": "markdown",
   "metadata": {},
   "source": [
    "The xgboost model performed the best of all, we will use this one to predict the target of the test dataset."
   ]
  },
  {
   "cell_type": "code",
   "execution_count": 29,
   "metadata": {},
   "outputs": [],
   "source": [
    "test_df = pd.read_pickle(\"./pp_test.pkl\")\n",
    "zero_values = np.zeros((len(test_df),1))\n",
    "cabin_t = pd.DataFrame(zero_values, columns=['Cabin_T'])\n",
    "test_df = pd.concat([test_df, cabin_t], axis = 1)\n",
    "y_pred = model.predict(test_df)\n",
    "\n",
    "submission = pd.DataFrame(y_pred, columns=['Survived'])\n",
    "submission.to_csv('submission.csv')\n"
   ]
  },
  {
   "cell_type": "markdown",
   "metadata": {},
   "source": [
    "Predicting the survival of the passengers in the test dataset and saving it in a csv file."
   ]
  }
 ],
 "metadata": {
  "kernelspec": {
   "display_name": "Python 3.7",
   "language": "python",
   "name": "datahub"
  },
  "language_info": {
   "codemirror_mode": {
    "name": "ipython",
    "version": 3
   },
   "file_extension": ".py",
   "mimetype": "text/x-python",
   "name": "python",
   "nbconvert_exporter": "python",
   "pygments_lexer": "ipython3",
   "version": "3.6.7"
  }
 },
 "nbformat": 4,
 "nbformat_minor": 4
}
